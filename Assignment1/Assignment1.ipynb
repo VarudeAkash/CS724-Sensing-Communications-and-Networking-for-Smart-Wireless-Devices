{
 "cells": [
  {
   "cell_type": "markdown",
   "metadata": {
    "id": "y-1Mq9Obny0K"
   },
   "source": [
    "## Assignment 1\n",
    "#### Name: Akash Shivaji Varude\n",
    "#### Roll Number: 231110006\n"
   ]
  },
  {
   "cell_type": "code",
   "execution_count": 1,
   "metadata": {
    "executionInfo": {
     "elapsed": 14,
     "status": "ok",
     "timestamp": 1693402050958,
     "user": {
      "displayName": "Akash Varude",
      "userId": "06728237620216335239"
     },
     "user_tz": -330
    },
    "id": "OtBYeCjBnxm6"
   },
   "outputs": [],
   "source": [
    "import numpy as np\n",
    "import math\n",
    "import matplotlib.pyplot as plt"
   ]
  },
  {
   "cell_type": "code",
   "execution_count": 2,
   "metadata": {
    "executionInfo": {
     "elapsed": 14,
     "status": "ok",
     "timestamp": 1693402050961,
     "user": {
      "displayName": "Akash Varude",
      "userId": "06728237620216335239"
     },
     "user_tz": -330
    },
    "id": "lFiNJQ-Gnx2W"
   },
   "outputs": [],
   "source": [
    "def Travel_time(satellite_positions, user_pos, speed):              #to calculate time required to travel the signal from each sattelite\n",
    "    travel_times = []\n",
    "    for i,sat_pos in enumerate(satellite_positions, start=1):\n",
    "        distance = np.linalg.norm(user_pos - sat_pos)               #calculating euclidean distance bet sattelite and user position\n",
    "        travel_time = distance / speed\n",
    "        travel_times.append(travel_time)                            #storing each time req from each sattelite\n",
    "    return travel_times"
   ]
  },
  {
   "cell_type": "code",
   "execution_count": 3,
   "metadata": {
    "executionInfo": {
     "elapsed": 434,
     "status": "ok",
     "timestamp": 1693402073303,
     "user": {
      "displayName": "Akash Varude",
      "userId": "06728237620216335239"
     },
     "user_tz": -330
    },
    "id": "xWvfTcpqnx36"
   },
   "outputs": [],
   "source": [
    "def trilateration(sattelite_positions, speed, travel_times):        #Function to calculate user position\n",
    "    distances=[]\n",
    "    for time in travel_times:                                       #Here I am using previously calculated times to calculate distances\n",
    "        distances.append(speed*time)\n",
    "\n",
    "    sp = sattelite_positions.copy()\n",
    "    #Here I am creating row wise matrix A using ppt formula\n",
    "    A0=np.empty(3)\n",
    "    for i, (val1, val2) in enumerate(zip([sp[1][0], sp[1][1], sp[1][2]], [sp[0][0], sp[0][1], sp[0][2]])):\n",
    "        A0[i] = 2 * (val1 - val2)\n",
    "    A1=np.empty(3)\n",
    "    for i, (val1, val2) in enumerate(zip([sp[2][0], sp[2][1], sp[2][2]], [sp[1][0], sp[1][1], sp[1][2]])):\n",
    "        A1[i] = 2 * (val1 - val2)\n",
    "    A2=np.empty(3)\n",
    "    for i, (val1, val2) in enumerate(zip([sp[3][0], sp[3][1], sp[3][2]], [sp[2][0], sp[2][1], sp[2][2]])):\n",
    "        A2[i] = 2 * (val1 - val2)\n",
    "    A3=np.empty(3)\n",
    "    for i, (val1, val2) in enumerate(zip([sp[4][0], sp[4][1], sp[4][2]], [sp[3][0], sp[3][1], sp[3][2]])):\n",
    "        A3[i] = 2 * (val1 - val2)\n",
    "    #Now combining it to make a matrix\n",
    "    A = np.vstack((A0, A1, A2, A3))\n",
    "    #Here I am calculating Matrix B using formula mentioned in ppt\n",
    "    B=np.empty(4)\n",
    "    for i in range(4):\n",
    "        B[i]=(distances[i]**2 - distances[i+1]**2)-(sp[i][0]**2-sp[i+1][0]**2)-(sp[i][1]**2-sp[i+1][1]**2)-(sp[i][2]**2-sp[i+1][2]**2)\n",
    "\n",
    "    #Finding Solution of AX=B  by using formula X=(((A^T)A)^-1)(A^T)B\n",
    "    solution= np.matmul(np.linalg.inv(np.matmul(A.T,A)),np.matmul(A.T,B))\n",
    "    return (solution)"
   ]
  },
  {
   "cell_type": "code",
   "execution_count": 4,
   "metadata": {
    "executionInfo": {
     "elapsed": 5,
     "status": "ok",
     "timestamp": 1693402092612,
     "user": {
      "displayName": "Akash Varude",
      "userId": "06728237620216335239"
     },
     "user_tz": -330
    },
    "id": "i--aMBxonx7K"
   },
   "outputs": [],
   "source": [
    "def calculate_Norm(NoErrorUserPos, ErrorUserPos):           #Created a function just to calculate inaccuracies of calculated position vs actual user position\n",
    "    inaccuracy=math.sqrt((NoErrorUserPos[0]-ErrorUserPos[0])**2+(NoErrorUserPos[1]-ErrorUserPos[1])**2+(NoErrorUserPos[2]-ErrorUserPos[2])**2)\n",
    "    return(inaccuracy)"
   ]
  },
  {
   "cell_type": "code",
   "execution_count": 5,
   "metadata": {
    "colab": {
     "base_uri": "https://localhost:8080/"
    },
    "executionInfo": {
     "elapsed": 691,
     "status": "ok",
     "timestamp": 1693402141656,
     "user": {
      "displayName": "Akash Varude",
      "userId": "06728237620216335239"
     },
     "user_tz": -330
    },
    "id": "F5OaQ9rKnx9G",
    "outputId": "b11336d0-c859-4f93-d1c1-4d751dbd0d62"
   },
   "outputs": [
    {
     "name": "stdout",
     "output_type": "stream",
     "text": [
      "Sattelite Positions are:\n",
      " [[ 40000000.  50000000.  66660000.]\n",
      " [-80000000.  25000000. -44000000.]\n",
      " [ 65000000.  98000000.  10450000.]\n",
      " [ 20000000. -43000000. -66060000.]\n",
      " [ 55000000.  35000000.  42300000.]] \n",
      "\n"
     ]
    }
   ],
   "source": [
    "speed = 300000000  # Speed of light in mtr per second\n",
    "\n",
    "satellite_positions = np.array([\n",
    "        np.array([40000000, 50000000, 66660000]),\n",
    "        np.array([-80000000, 25000000, -44000000]),\n",
    "        np.array([65000000, 98000000, 10450000]),\n",
    "        np.array([20000000, -43000000, -66060000]),\n",
    "        np.array([55000000, 35000000, 42300000])\n",
    "    ],dtype='float64')    #sattelite positions in meters\n",
    "print(\"Sattelite Positions are:\\n\",satellite_positions,\"\\n\")\n",
    "user_pos = np.array([100, 100, 100])"
   ]
  },
  {
   "cell_type": "markdown",
   "metadata": {
    "id": "M2T-gQ6Uo1oC"
   },
   "source": [
    "### Assignment Task 1"
   ]
  },
  {
   "cell_type": "code",
   "execution_count": 6,
   "metadata": {
    "colab": {
     "base_uri": "https://localhost:8080/"
    },
    "executionInfo": {
     "elapsed": 12,
     "status": "ok",
     "timestamp": 1693402196766,
     "user": {
      "displayName": "Akash Varude",
      "userId": "06728237620216335239"
     },
     "user_tz": -330
    },
    "id": "MZbcBtUfnx_9",
    "outputId": "9af429c1-d4ab-4099-9bfb-f0385d4361cc"
   },
   "outputs": [
    {
     "name": "stdout",
     "output_type": "stream",
     "text": [
      "Task 1:\n",
      " travel Times are: [0.30810395554513015, 0.3155422105947158, 0.39353339276680904, 0.27106664641805955, 0.2590423290170075] \n",
      "\n"
     ]
    }
   ],
   "source": [
    "travel_times=[]\n",
    "travel_times=Travel_time(satellite_positions, user_pos, speed)\n",
    "print(\"Task 1:\\n travel Times are:\",travel_times,\"\\n\")"
   ]
  },
  {
   "cell_type": "markdown",
   "metadata": {
    "id": "pAnQBiKmo6T7"
   },
   "source": [
    "### Assignment Task 2"
   ]
  },
  {
   "cell_type": "code",
   "execution_count": 7,
   "metadata": {
    "colab": {
     "base_uri": "https://localhost:8080/"
    },
    "executionInfo": {
     "elapsed": 9,
     "status": "ok",
     "timestamp": 1693402397941,
     "user": {
      "displayName": "Akash Varude",
      "userId": "06728237620216335239"
     },
     "user_tz": -330
    },
    "id": "POGpu5pWnyCA",
    "outputId": "63a9902c-5b23-42a8-d9ba-8df72148923a"
   },
   "outputs": [
    {
     "name": "stdout",
     "output_type": "stream",
     "text": [
      "User Postion(No Error Introduced):  [ 99.99999999  99.99999997 100.00000002]\n",
      "inaccuracy in position:  3.573249173363488e-08\n"
     ]
    }
   ],
   "source": [
    "NoErrorUserPos=[]\n",
    "NoErrorUserPos=trilateration(satellite_positions, speed, travel_times)\n",
    "print(\"User Postion(No Error Introduced): \",NoErrorUserPos)\n",
    "inaccuracy=calculate_Norm(user_pos, NoErrorUserPos)   #find inaccuracy between actual user pos vs calculated user pos(without including time error)\n",
    "print(\"inaccuracy in position: \",inaccuracy)"
   ]
  },
  {
   "cell_type": "markdown",
   "metadata": {
    "id": "UTQCy2lCpGxm"
   },
   "source": [
    "### Assignment Task 3"
   ]
  },
  {
   "cell_type": "code",
   "execution_count": 8,
   "metadata": {
    "colab": {
     "base_uri": "https://localhost:8080/"
    },
    "executionInfo": {
     "elapsed": 9,
     "status": "ok",
     "timestamp": 1693402400956,
     "user": {
      "displayName": "Akash Varude",
      "userId": "06728237620216335239"
     },
     "user_tz": -330
    },
    "id": "87ckb6vEnyFA",
    "outputId": "78569df7-a560-4ed0-9e26-b0f309d64d05"
   },
   "outputs": [
    {
     "name": "stdout",
     "output_type": "stream",
     "text": [
      "\n",
      "Task 3:\n",
      "User Postions:  [ 99.8919217   99.68387106 100.24488062]\n",
      "inaccuracy in position:  0.41422813098521255\n"
     ]
    }
   ],
   "source": [
    "error_Traveltimes=np.array(travel_times)\n",
    "#generating some random error from 0 to 1 and dividing it by 10**8 so that error is not very large\n",
    "rand_error=np.random.rand()/10**8\n",
    "error_Traveltimes=error_Traveltimes+rand_error  #adding error into errored travel time array\n",
    "ErrorUserPos=trilateration(satellite_positions, speed, error_Traveltimes)\n",
    "print(\"\\nTask 3:\\nUser Postions: \",ErrorUserPos)\n",
    "\n",
    "inaccuracy=calculate_Norm(user_pos, ErrorUserPos)   #finding inaccuracy between actual user pos vs calculated user pos(including time error)\n",
    "print(\"inaccuracy in position: \",inaccuracy)"
   ]
  },
  {
   "cell_type": "markdown",
   "metadata": {
    "id": "EiZPZ9PjpUp5"
   },
   "source": [
    "### Assignment Task 4"
   ]
  },
  {
   "cell_type": "code",
   "execution_count": 9,
   "metadata": {
    "executionInfo": {
     "elapsed": 1816,
     "status": "ok",
     "timestamp": 1693402436261,
     "user": {
      "displayName": "Akash Varude",
      "userId": "06728237620216335239"
     },
     "user_tz": -330
    },
    "id": "jrzoT0ZrnyG1"
   },
   "outputs": [],
   "source": [
    "travel_times=np.array(travel_times)\n",
    "err_list=np.array([np.random.rand()/10**8 for i in range(20)], dtype='float64')       #created numpy array to store randomly generated errors\n",
    "err_list.sort()                         #sorting errors in increasing orders"
   ]
  },
  {
   "cell_type": "code",
   "execution_count": 10,
   "metadata": {
    "colab": {
     "base_uri": "https://localhost:8080/",
     "height": 507
    },
    "executionInfo": {
     "elapsed": 12,
     "status": "ok",
     "timestamp": 1693404969041,
     "user": {
      "displayName": "Akash Varude",
      "userId": "06728237620216335239"
     },
     "user_tz": -330
    },
    "id": "QF-5G2X1nyJo",
    "outputId": "bb268b82-72c1-42c9-9b97-94379d5836a4"
   },
   "outputs": [
    {
     "name": "stdout",
     "output_type": "stream",
     "text": [
      "\n",
      "Avarage Inaccuracy : 0.6564644029333692\n"
     ]
    },
    {
     "data": {
      "image/png": "[encoded data removed]",
      "text/plain": [
       "<Figure size 640x480 with 1 Axes>"
      ]
     },
     "metadata": {},
     "output_type": "display_data"
    }
   ],
   "source": [
    "inaccuracy_list=[]                      #list to store inaccuracies in position for corresponding errors\n",
    "for i in range(20):\n",
    "    errored_Traveltimes=travel_times+err_list[i]        #adding error to time\n",
    "    ErroredUserPos=trilateration(satellite_positions, speed, errored_Traveltimes)  #calculating user postion (for errored time)\n",
    "    inaccuracy=calculate_Norm(user_pos, ErroredUserPos)\n",
    "    inaccuracy_list.append(inaccuracy)          #storing inaccuracy in inaccuracy list\n",
    "#print(\"\\ninaccuracies generated due to errors\",inaccuracy_list,\"\\n\") #just printing all inaccuracies\n",
    "print(\"\\nAvarage Inaccuracy :\",np.average(inaccuracy_list))\n",
    "np.array(inaccuracy_list)                       #converting it to numpy array\n",
    "plt.plot(err_list,inaccuracy_list, color =\"red\",marker='*',markerfacecolor='blue')\n",
    "plt.xlabel(\"Generated Error\")\n",
    "plt.ylabel(\"Inaccuracies in position\")\n",
    "plt.title(\"Timing error vs Inaccuracy\")\n",
    "plt.show()"
   ]
  },
  {
   "cell_type": "code",
   "execution_count": 18,
   "metadata": {
    "executionInfo": {
     "elapsed": 2,
     "status": "ok",
     "timestamp": 1693404969460,
     "user": {
      "displayName": "Akash Varude",
      "userId": "06728237620216335239"
     },
     "user_tz": -330
    },
    "id": "6JsPodU0nyMc"
   },
   "outputs": [],
   "source": []
  },
  {
   "cell_type": "code",
   "execution_count": null,
   "metadata": {
    "id": "LVWzdzu7p8Ds"
   },
   "outputs": [],
   "source": []
  }
 ],
 "metadata": {
  "colab": {
   "authorship_tag": "ABX9TyMAvp1PFBQSqVI6GUKEg51z",
   "provenance": []
  },
  "kernelspec": {
   "display_name": "Python 3 (ipykernel)",
   "language": "python",
   "name": "python3"
  },
  "language_info": {
   "codemirror_mode": {
    "name": "ipython",
    "version": 3
   },
   "file_extension": ".py",
   "mimetype": "text/x-python",
   "name": "python",
   "nbconvert_exporter": "python",
   "pygments_lexer": "ipython3",
   "version": "3.11.4"
  }
 },
 "nbformat": 4,
 "nbformat_minor": 1
}
